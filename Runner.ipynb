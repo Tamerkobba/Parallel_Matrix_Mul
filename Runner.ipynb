{
  "nbformat": 4,
  "nbformat_minor": 0,
  "metadata": {
    "colab": {
      "provenance": [],
      "gpuType": "T4"
    },
    "kernelspec": {
      "name": "python3",
      "display_name": "Python 3"
    },
    "language_info": {
      "name": "python"
    },
    "accelerator": "GPU"
  },
  "cells": [
    {
      "cell_type": "code",
      "source": [
        "!git clone https://github.com/Tamerkobba/Parallel_Matrix_Mul"
      ],
      "metadata": {
        "colab": {
          "base_uri": "https://localhost:8080/"
        },
        "id": "k6KjY9c0KgsV",
        "outputId": "14040e08-6dfe-4e6b-b714-7f03c6151339"
      },
      "execution_count": 58,
      "outputs": [
        {
          "output_type": "stream",
          "name": "stdout",
          "text": [
            "Cloning into 'Parallel_Matrix_Mul'...\n",
            "remote: Enumerating objects: 24, done.\u001b[K\n",
            "remote: Counting objects: 100% (24/24), done.\u001b[K\n",
            "remote: Compressing objects: 100% (16/16), done.\u001b[K\n",
            "remote: Total 24 (delta 12), reused 19 (delta 7), pack-reused 0\u001b[K\n",
            "Receiving objects: 100% (24/24), 5.23 KiB | 1.05 MiB/s, done.\n",
            "Resolving deltas: 100% (12/12), done.\n"
          ]
        }
      ]
    },
    {
      "cell_type": "code",
      "source": [
        "%cd Parallel_Matrix_Mul/"
      ],
      "metadata": {
        "colab": {
          "base_uri": "https://localhost:8080/"
        },
        "id": "227ii5uOKwRI",
        "outputId": "45b84aa4-0ea6-44c6-88ea-6955ef2148d7"
      },
      "execution_count": 59,
      "outputs": [
        {
          "output_type": "stream",
          "name": "stdout",
          "text": [
            "/content/Parallel_Matrix_Mul\n"
          ]
        }
      ]
    },
    {
      "cell_type": "code",
      "execution_count": 60,
      "metadata": {
        "colab": {
          "base_uri": "https://localhost:8080/"
        },
        "id": "VD97vo1dCnSk",
        "outputId": "24fdf8f3-fc8f-4998-eeb0-f97b178cd951"
      },
      "outputs": [
        {
          "output_type": "stream",
          "name": "stdout",
          "text": [
            "Result Matrix:\n",
            "2534493 2527046 2524066 2573676 2497900 2519537 2574521 2519889 2578847 2531521 \n",
            "2596835 2522232 2564750 2593542 2487416 2513847 2529452 2519732 2597029 2544976 \n",
            "2598642 2615293 2571912 2616612 2513849 2556135 2633840 2557399 2592655 2583142 \n",
            "2574583 2538012 2540811 2618488 2572078 2568273 2521700 2579194 2609690 2553957 \n",
            "2459171 2464182 2444013 2480733 2374307 2407911 2435561 2428972 2499921 2444567 \n",
            "2490496 2536335 2491905 2583648 2485843 2510627 2501540 2526726 2579798 2582955 \n",
            "2494661 2445866 2489776 2530790 2461693 2419582 2517597 2508601 2540733 2522028 \n",
            "2525452 2516640 2459673 2592442 2449438 2448907 2507267 2481216 2593030 2540845 \n",
            "2538312 2532896 2521154 2546537 2496664 2487109 2558187 2511282 2557960 2547221 \n",
            "2549869 2540797 2506800 2607144 2479963 2552305 2538136 2518427 2581633 2565276 \n",
            "Execution Time: 11.910168 seconds\n"
          ]
        }
      ],
      "source": [
        "# compile and run sequential\n",
        "\n",
        "!gcc Matrix_Multiplication.c -o Matrix_Mutliplication\n",
        "!./Matrix_Mutliplication"
      ]
    },
    {
      "cell_type": "code",
      "source": [
        "# compile and run basic matrix_mul in CUDA\n",
        "\n",
        "!nvcc Matrix_Multiplication.cu -o Matrix_Multiplication_cuda\n",
        "!./Matrix_Multiplication_cuda\n"
      ],
      "metadata": {
        "colab": {
          "base_uri": "https://localhost:8080/"
        },
        "id": "TjK2SxbPEF7_",
        "outputId": "e7b083b5-ce7a-41d7-ba64-36b5664d2566"
      },
      "execution_count": 61,
      "outputs": [
        {
          "output_type": "stream",
          "name": "stdout",
          "text": [
            "Result Matrix:\n",
            "2534493 2527046 2524066 2573676 2497900 2519537 2574521 2519889 2578847 2531521 \n",
            "2596835 2522232 2564750 2593542 2487416 2513847 2529452 2519732 2597029 2544976 \n",
            "2598642 2615293 2571912 2616612 2513849 2556135 2633840 2557399 2592655 2583142 \n",
            "2574583 2538012 2540811 2618488 2572078 2568273 2521700 2579194 2609690 2553957 \n",
            "2459171 2464182 2444013 2480733 2374307 2407911 2435561 2428972 2499921 2444567 \n",
            "2490496 2536335 2491905 2583648 2485843 2510627 2501540 2526726 2579798 2582955 \n",
            "2494661 2445866 2489776 2530790 2461693 2419582 2517597 2508601 2540733 2522028 \n",
            "2525452 2516640 2459673 2592442 2449438 2448907 2507267 2481216 2593030 2540845 \n",
            "2538312 2532896 2521154 2546537 2496664 2487109 2558187 2511282 2557960 2547221 \n",
            "2549869 2540797 2506800 2607144 2479963 2552305 2538136 2518427 2581633 2565276 \n",
            "Execution Time: 0.009329 seconds\n"
          ]
        }
      ]
    },
    {
      "cell_type": "code",
      "source": [
        "#compile and run Tiled Mtrix Multiplication ian CUDA\n",
        "!nvcc Tiled_Matrix_Multiplication.cu -o Tiled_Matrix_Multiplication_cu\n",
        "!./Tiled_Matrix_Multiplication_cu"
      ],
      "metadata": {
        "colab": {
          "base_uri": "https://localhost:8080/"
        },
        "id": "m7kopnCoE9OY",
        "outputId": "670995a9-c2af-40c3-d1d7-9dfc718a1de4"
      },
      "execution_count": 62,
      "outputs": [
        {
          "output_type": "stream",
          "name": "stdout",
          "text": [
            "Result Matrix:\n",
            "2534493 2527046 2524066 2573676 2497900 2519537 2574521 2519889 2578847 2531521 \n",
            "2596835 2522232 2564750 2593542 2487416 2513847 2529452 2519732 2597029 2544976 \n",
            "2598642 2615293 2571912 2616612 2513849 2556135 2633840 2557399 2592655 2583142 \n",
            "2574583 2538012 2540811 2618488 2572078 2568273 2521700 2579194 2609690 2553957 \n",
            "2459171 2464182 2444013 2480733 2374307 2407911 2435561 2428972 2499921 2444567 \n",
            "2490496 2536335 2491905 2583648 2485843 2510627 2501540 2526726 2579798 2582955 \n",
            "2494661 2445866 2489776 2530790 2461693 2419582 2517597 2508601 2540733 2522028 \n",
            "2525452 2516640 2459673 2592442 2449438 2448907 2507267 2481216 2593030 2540845 \n",
            "2538312 2532896 2521154 2546537 2496664 2487109 2558187 2511282 2557960 2547221 \n",
            "2549869 2540797 2506800 2607144 2479963 2552305 2538136 2518427 2581633 2565276 \n",
            "Execution Time: 0.007604 seconds\n"
          ]
        }
      ]
    },
    {
      "cell_type": "code",
      "source": [
        "# compile and run basic matrix_mul in openACC\n",
        "\n",
        "!gcc Matrix_Multiplication_acc.c -o MatrixACC -fopenacc\n",
        "!./MatrixACC\n"
      ],
      "metadata": {
        "colab": {
          "base_uri": "https://localhost:8080/"
        },
        "id": "86k_Tuo6FGwe",
        "outputId": "091f6946-0efc-43f0-d98e-c0fb44c98da5"
      },
      "execution_count": 63,
      "outputs": [
        {
          "output_type": "stream",
          "name": "stdout",
          "text": [
            "Result Matrix:\n",
            "2534493 2527046 2524066 2573676 2497900 2519537 2574521 2519889 2578847 2531521 \n",
            "2596835 2522232 2564750 2593542 2487416 2513847 2529452 2519732 2597029 2544976 \n",
            "2598642 2615293 2571912 2616612 2513849 2556135 2633840 2557399 2592655 2583142 \n",
            "2574583 2538012 2540811 2618488 2572078 2568273 2521700 2579194 2609690 2553957 \n",
            "2459171 2464182 2444013 2480733 2374307 2407911 2435561 2428972 2499921 2444567 \n",
            "2490496 2536335 2491905 2583648 2485843 2510627 2501540 2526726 2579798 2582955 \n",
            "2494661 2445866 2489776 2530790 2461693 2419582 2517597 2508601 2540733 2522028 \n",
            "2525452 2516640 2459673 2592442 2449438 2448907 2507267 2481216 2593030 2540845 \n",
            "2538312 2532896 2521154 2546537 2496664 2487109 2558187 2511282 2557960 2547221 \n",
            "2549869 2540797 2506800 2607144 2479963 2552305 2538136 2518427 2581633 2565276 \n",
            "Execution Time: 12.156371 seconds\n"
          ]
        }
      ]
    },
    {
      "cell_type": "code",
      "source": [
        "#compile and run Tiled_Matrix_mutilplication_acc.c\n",
        "\n",
        "!gcc Tiled_Matrix_Multiplication_acc.c -o Tiled_Matrix_Multiplication_acc -fopenacc\n",
        "!./Tiled_Matrix_Multiplication_acc"
      ],
      "metadata": {
        "colab": {
          "base_uri": "https://localhost:8080/"
        },
        "id": "7-fUQzvZPb8J",
        "outputId": "0e1dcf17-55b9-4ace-ee2b-a0df435e520e"
      },
      "execution_count": 68,
      "outputs": [
        {
          "output_type": "stream",
          "name": "stdout",
          "text": [
            "Result Matrix:\n",
            "2534493 2527046 2524066 2573676 2497900 2519537 2574521 2519889 2578847 2531521 \n",
            "2596835 2522232 2564750 2593542 2487416 2513847 2529452 2519732 2597029 2544976 \n",
            "2598642 2615293 2571912 2616612 2513849 2556135 2633840 2557399 2592655 2583142 \n",
            "2574583 2538012 2540811 2618488 2572078 2568273 2521700 2579194 2609690 2553957 \n",
            "2459171 2464182 2444013 2480733 2374307 2407911 2435561 2428972 2499921 2444567 \n",
            "2490496 2536335 2491905 2583648 2485843 2510627 2501540 2526726 2579798 2582955 \n",
            "2494661 2445866 2489776 2530790 2461693 2419582 2517597 2508601 2540733 2522028 \n",
            "2525452 2516640 2459673 2592442 2449438 2448907 2507267 2481216 2593030 2540845 \n",
            "2538312 2532896 2521154 2546537 2496664 2487109 2558187 2511282 2557960 2547221 \n",
            "2549869 2540797 2506800 2607144 2479963 2552305 2538136 2518427 2581633 2565276 \n",
            "Execution Time: 12.051669 seconds\n"
          ]
        }
      ]
    }
  ]
}