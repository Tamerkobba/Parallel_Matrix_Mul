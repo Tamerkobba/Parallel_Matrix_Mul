{
  "cells": [
    {
      "cell_type": "code",
      "execution_count": 1,
      "metadata": {
        "colab": {
          "base_uri": "https://localhost:8080/"
        },
        "id": "k6KjY9c0KgsV",
        "outputId": "d52319ab-7aba-47ec-9728-4ee0a73db715"
      },
      "outputs": [
        {
          "name": "stdout",
          "output_type": "stream",
          "text": [
            "Cloning into 'Parallel_Matrix_Mul'...\n",
            "remote: Enumerating objects: 46, done.\u001b[K\n",
            "remote: Counting objects: 100% (46/46), done.\u001b[K\n",
            "remote: Compressing objects: 100% (32/32), done.\u001b[K\n",
            "remote: Total 46 (delta 23), reused 35 (delta 12), pack-reused 0\u001b[K\n",
            "Receiving objects: 100% (46/46), 40.28 KiB | 4.03 MiB/s, done.\n",
            "Resolving deltas: 100% (23/23), done.\n"
          ]
        }
      ],
      "source": [
        "!git clone https://github.com/Tamerkobba/Parallel_Matrix_Mul"
      ]
    },
    {
      "cell_type": "code",
      "execution_count": 2,
      "metadata": {
        "colab": {
          "base_uri": "https://localhost:8080/"
        },
        "id": "227ii5uOKwRI",
        "outputId": "ee30303f-8bf7-4dbc-e317-8d732055cb28"
      },
      "outputs": [
        {
          "name": "stdout",
          "output_type": "stream",
          "text": [
            "/content/Parallel_Matrix_Mul\n"
          ]
        }
      ],
      "source": [
        "%cd Parallel_Matrix_Mul/"
      ]
    },
    {
      "cell_type": "code",
      "execution_count": 33,
      "metadata": {
        "colab": {
          "base_uri": "https://localhost:8080/"
        },
        "id": "VD97vo1dCnSk",
        "outputId": "f7a0dc60-ba47-426c-90d2-228c48310f9c"
      },
      "outputs": [
        {
          "name": "stdout",
          "output_type": "stream",
          "text": [
            "Result Matrix:\n",
            "5043662 4945532 4954145 4797013 4981408 4948076 4986695 4960878 4919326 4948837 \n",
            "4908677 4850063 4930005 4840404 4993210 5013387 4962510 4888887 4944273 4923155 \n",
            "5074770 4905215 4955488 4935061 5061709 5062787 4965987 4993550 4972562 5012707 \n",
            "4946772 4886049 4838462 4797849 4967704 4973898 4974354 4871571 4836902 4886092 \n",
            "4946987 4854747 4810973 4860100 4979240 4891348 4920352 4895501 4842310 4867724 \n",
            "4850203 4837049 4805700 4801351 4955285 4907174 4892049 4805056 4899559 4840248 \n",
            "5037056 4870360 4845817 4912522 5026752 4952577 4971012 4887652 4911225 4848294 \n",
            "5040812 4933110 4924367 4922456 5068304 4992705 5044289 4956554 4917258 4936506 \n",
            "5062286 4916325 4855214 4832500 5025927 5052827 4991687 5001146 4958870 4879544 \n",
            "4993687 4975672 5023460 4901609 5147930 4993003 5033577 4954396 5014719 5004346 \n",
            "Execution Time: 22.835227 seconds\n"
          ]
        }
      ],
      "source": [
        "# compile and run sequential\n",
        "\n",
        "!gcc Matrix_Multiplication.c -o Matrix_Mutliplication\n",
        "!./Matrix_Mutliplication"
      ]
    },
    {
      "cell_type": "code",
      "execution_count": 19,
      "metadata": {
        "colab": {
          "base_uri": "https://localhost:8080/"
        },
        "id": "TjK2SxbPEF7_",
        "outputId": "5eac3195-9c1c-4050-87ca-9deed5e5fe12"
      },
      "outputs": [
        {
          "name": "stdout",
          "output_type": "stream",
          "text": [
            "Result Matrix:\n",
            "5043662 4945532 4954145 4797013 4981408 4948076 4986695 4960878 4919326 4948837 \n",
            "4908677 4850063 4930005 4840404 4993210 5013387 4962510 4888887 4944273 4923155 \n",
            "5074770 4905215 4955488 4935061 5061709 5062787 4965987 4993550 4972562 5012707 \n",
            "4946772 4886049 4838462 4797849 4967704 4973898 4974354 4871571 4836902 4886092 \n",
            "4946987 4854747 4810973 4860100 4979240 4891348 4920352 4895501 4842310 4867724 \n",
            "4850203 4837049 4805700 4801351 4955285 4907174 4892049 4805056 4899559 4840248 \n",
            "5037056 4870360 4845817 4912522 5026752 4952577 4971012 4887652 4911225 4848294 \n",
            "5040812 4933110 4924367 4922456 5068304 4992705 5044289 4956554 4917258 4936506 \n",
            "5062286 4916325 4855214 4832500 5025927 5052827 4991687 5001146 4958870 4879544 \n",
            "4993687 4975672 5023460 4901609 5147930 4993003 5033577 4954396 5014719 5004346 \n",
            "Execution Time: 0.160604 seconds\n"
          ]
        }
      ],
      "source": [
        "# compile and run basic matrix_mul in CUDA\n",
        "\n",
        "!nvcc Matrix_Multiplication.cu -o Matrix_Multiplication_cuda\n",
        "!./Matrix_Multiplication_cuda\n"
      ]
    },
    {
      "cell_type": "code",
      "execution_count": 20,
      "metadata": {
        "colab": {
          "base_uri": "https://localhost:8080/"
        },
        "id": "m7kopnCoE9OY",
        "outputId": "64474159-6989-40cd-fbd8-989463d26b5e"
      },
      "outputs": [
        {
          "name": "stdout",
          "output_type": "stream",
          "text": [
            "Result Matrix:\n",
            "5043662 4945532 4954145 4797013 4981408 4948076 4986695 4960878 4919326 4948837 \n",
            "4908677 4850063 4930005 4840404 4993210 5013387 4962510 4888887 4944273 4923155 \n",
            "5074770 4905215 4955488 4935061 5061709 5062787 4965987 4993550 4972562 5012707 \n",
            "4946772 4886049 4838462 4797849 4967704 4973898 4974354 4871571 4836902 4886092 \n",
            "4946987 4854747 4810973 4860100 4979240 4891348 4920352 4895501 4842310 4867724 \n",
            "4850203 4837049 4805700 4801351 4955285 4907174 4892049 4805056 4899559 4840248 \n",
            "5037056 4870360 4845817 4912522 5026752 4952577 4971012 4887652 4911225 4848294 \n",
            "5040812 4933110 4924367 4922456 5068304 4992705 5044289 4956554 4917258 4936506 \n",
            "5062286 4916325 4855214 4832500 5025927 5052827 4991687 5001146 4958870 4879544 \n",
            "4993687 4975672 5023460 4901609 5147930 4993003 5033577 4954396 5014719 5004346 \n",
            "Execution Time: 0.058400 seconds\n"
          ]
        }
      ],
      "source": [
        "#compile and run Tiled Mtrix Multiplication ian CUDA\n",
        "!nvcc Tiled_Matrix_Multiplication.cu -o Tiled_Matrix_Multiplication_cu\n",
        "!./Tiled_Matrix_Multiplication_cu"
      ]
    },
    {
      "cell_type": "code",
      "execution_count": 40,
      "metadata": {
        "colab": {
          "base_uri": "https://localhost:8080/"
        },
        "id": "86k_Tuo6FGwe",
        "outputId": "efedff92-95bc-47e6-9fbe-5b24d5d9b0b3"
      },
      "outputs": [
        {
          "name": "stdout",
          "output_type": "stream",
          "text": [
            "Result Matrix:\n",
            "5043662 4945532 4954145 4797013 4981408 4948076 4986695 4960878 4919326 4948837 \n",
            "4908677 4850063 4930005 4840404 4993210 5013387 4962510 4888887 4944273 4923155 \n",
            "5074770 4905215 4955488 4935061 5061709 5062787 4965987 4993550 4972562 5012707 \n",
            "4946772 4886049 4838462 4797849 4967704 4973898 4974354 4871571 4836902 4886092 \n",
            "4946987 4854747 4810973 4860100 4979240 4891348 4920352 4895501 4842310 4867724 \n",
            "4850203 4837049 4805700 4801351 4955285 4907174 4892049 4805056 4899559 4840248 \n",
            "5037056 4870360 4845817 4912522 5026752 4952577 4971012 4887652 4911225 4848294 \n",
            "5040812 4933110 4924367 4922456 5068304 4992705 5044289 4956554 4917258 4936506 \n",
            "5062286 4916325 4855214 4832500 5025927 5052827 4991687 5001146 4958870 4879544 \n",
            "4993687 4975672 5023460 4901609 5147930 4993003 5033577 4954396 5014719 5004346 \n",
            "Execution Time: 18.345139 seconds\n"
          ]
        }
      ],
      "source": [
        "# compile and run basic matrix_mul in openACC\n",
        "\n",
        "!nvcc -Xcompiler -fopenacc -O3 Matrix_Multiplication_acc.c -o MatrixACC\n",
        "!./MatrixACC\n"
      ]
    },
    {
      "cell_type": "code",
      "execution_count": 39,
      "metadata": {
        "colab": {
          "base_uri": "https://localhost:8080/"
        },
        "id": "7-fUQzvZPb8J",
        "outputId": "ee14abb8-6d77-497b-fb9a-a540528189ed"
      },
      "outputs": [
        {
          "name": "stdout",
          "output_type": "stream",
          "text": [
            "Result Matrix:\n",
            "5043662 4945532 4954145 4797013 4981408 4948076 4986695 4960878 4919326 4948837 \n",
            "4908677 4850063 4930005 4840404 4993210 5013387 4962510 4888887 4944273 4923155 \n",
            "5074770 4905215 4955488 4935061 5061709 5062787 4965987 4993550 4972562 5012707 \n",
            "4946772 4886049 4838462 4797849 4967704 4973898 4974354 4871571 4836902 4886092 \n",
            "4946987 4854747 4810973 4860100 4979240 4891348 4920352 4895501 4842310 4867724 \n",
            "4850203 4837049 4805700 4801351 4955285 4907174 4892049 4805056 4899559 4840248 \n",
            "5037056 4870360 4845817 4912522 5026752 4952577 4971012 4887652 4911225 4848294 \n",
            "5040812 4933110 4924367 4922456 5068304 4992705 5044289 4956554 4917258 4936506 \n",
            "5062286 4916325 4855214 4832500 5025927 5052827 4991687 5001146 4958870 4879544 \n",
            "4993687 4975672 5023460 4901609 5147930 4993003 5033577 4954396 5014719 5004346 \n",
            "Execution Time: 1.240470 seconds\n"
          ]
        }
      ],
      "source": [
        "#compile and run Tiled_Matrix_mutilplication_acc.c\n",
        "\n",
        "!nvcc -Xcompiler -fopenacc -O3 Tiled_Matrix_multiplication_acc.c -o Tiled_Matrix_Multiplication_acc\n",
        "!./Tiled_Matrix_Multiplication_acc"
      ]
    }
  ],
  "metadata": {
    "accelerator": "GPU",
    "colab": {
      "gpuType": "T4",
      "provenance": []
    },
    "kernelspec": {
      "display_name": "Python 3",
      "name": "python3"
    },
    "language_info": {
      "name": "python"
    }
  },
  "nbformat": 4,
  "nbformat_minor": 0
}
